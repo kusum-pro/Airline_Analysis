{
 "cells": [
  {
   "cell_type": "code",
   "execution_count": 1,
   "id": "76db9bb9",
   "metadata": {},
   "outputs": [],
   "source": [
    "import numpy as np\n",
    "import pandas as pd\n",
    "import matplotlib.pyplot as plt\n",
    "import seaborn as sns\n",
    "\n",
    "%matplotlib inline"
   ]
  },
  {
   "cell_type": "code",
   "execution_count": 2,
   "id": "b6b9f58c",
   "metadata": {},
   "outputs": [],
   "source": [
    "from pyspark.sql import SparkSession"
   ]
  },
  {
   "cell_type": "code",
   "execution_count": 3,
   "id": "d8ade957",
   "metadata": {},
   "outputs": [],
   "source": [
    "spark = SparkSession.builder.appName('Read CSV File into DataFrame').getOrCreate()"
   ]
  },
  {
   "cell_type": "code",
   "execution_count": 4,
   "id": "e59f630f",
   "metadata": {},
   "outputs": [],
   "source": [
    "from pyspark.sql import SQLContext\n",
    "from pyspark import SparkContext, SparkConf"
   ]
  },
  {
   "cell_type": "code",
   "execution_count": 5,
   "id": "87bc149b",
   "metadata": {},
   "outputs": [
    {
     "name": "stderr",
     "output_type": "stream",
     "text": [
      "C:\\Users\\16478\\anaconda3\\lib\\site-packages\\pyspark\\sql\\context.py:112: FutureWarning: Deprecated in 3.0.0. Use SparkSession.builder.getOrCreate() instead.\n",
      "  warnings.warn(\n"
     ]
    }
   ],
   "source": [
    "sqlContext = SQLContext(spark)"
   ]
  },
  {
   "cell_type": "code",
   "execution_count": 6,
   "id": "fbf0d0b4",
   "metadata": {},
   "outputs": [
    {
     "data": {
      "text/html": [
       "\n",
       "            <div>\n",
       "                <p><b>SparkSession - in-memory</b></p>\n",
       "                \n",
       "        <div>\n",
       "            <p><b>SparkContext</b></p>\n",
       "\n",
       "            <p><a href=\"http://Korrapati:4040\">Spark UI</a></p>\n",
       "\n",
       "            <dl>\n",
       "              <dt>Version</dt>\n",
       "                <dd><code>v3.3.2</code></dd>\n",
       "              <dt>Master</dt>\n",
       "                <dd><code>local[*]</code></dd>\n",
       "              <dt>AppName</dt>\n",
       "                <dd><code>Read CSV File into DataFrame</code></dd>\n",
       "            </dl>\n",
       "        </div>\n",
       "        \n",
       "            </div>\n",
       "        "
      ],
      "text/plain": [
       "<pyspark.sql.session.SparkSession at 0x297e93287f0>"
      ]
     },
     "execution_count": 6,
     "metadata": {},
     "output_type": "execute_result"
    }
   ],
   "source": [
    "spark"
   ]
  },
  {
   "cell_type": "code",
   "execution_count": 7,
   "id": "195a7e7f",
   "metadata": {},
   "outputs": [
    {
     "name": "stdout",
     "output_type": "stream",
     "text": [
      "[]\n"
     ]
    }
   ],
   "source": [
    "print(spark.catalog.listTables())"
   ]
  },
  {
   "cell_type": "code",
   "execution_count": 7,
   "id": "cc141e4b",
   "metadata": {},
   "outputs": [],
   "source": [
    "airport_df=spark.read.csv(r\"C:\\Users\\16478\\Desktop\\dataset\\airports.csv\", sep=',',inferSchema=True, header=True)"
   ]
  },
  {
   "cell_type": "code",
   "execution_count": 8,
   "id": "00e95a85",
   "metadata": {},
   "outputs": [
    {
     "name": "stdout",
     "output_type": "stream",
     "text": [
      "+---------+--------------------+---------+-----+-------+--------+---------+\n",
      "|IATA_CODE|             AIRPORT|     CITY|STATE|COUNTRY|LATITUDE|LONGITUDE|\n",
      "+---------+--------------------+---------+-----+-------+--------+---------+\n",
      "|      ABE|Lehigh Valley Int...|Allentown|   PA|    USA|40.65236| -75.4404|\n",
      "+---------+--------------------+---------+-----+-------+--------+---------+\n",
      "only showing top 1 row\n",
      "\n"
     ]
    }
   ],
   "source": [
    "airport_df.show(1)"
   ]
  },
  {
   "cell_type": "code",
   "execution_count": 8,
   "id": "4548d20c",
   "metadata": {},
   "outputs": [],
   "source": [
    "flight_df=spark.read.csv(r\"C:\\Users\\16478\\Desktop\\dataset\\flights.csv\", sep=',',inferSchema=True, header=True)"
   ]
  },
  {
   "cell_type": "code",
   "execution_count": 11,
   "id": "6387b7aa",
   "metadata": {
    "scrolled": true
   },
   "outputs": [
    {
     "name": "stdout",
     "output_type": "stream",
     "text": [
      "+----+-----+---+-----------+-------+-------------+-----------+--------------+-------------------+-------------------+--------------+---------------+--------+----------+--------------+------------+--------+--------+---------+-------+-----------------+------------+-------------+--------+---------+-------------------+----------------+--------------+-------------+-------------------+-------------+\n",
      "|YEAR|MONTH|DAY|DAY_OF_WEEK|AIRLINE|FLIGHT_NUMBER|TAIL_NUMBER|ORIGIN_AIRPORT|DESTINATION_AIRPORT|SCHEDULED_DEPARTURE|DEPARTURE_TIME|DEPARTURE_DELAY|TAXI_OUT|WHEELS_OFF|SCHEDULED_TIME|ELAPSED_TIME|AIR_TIME|DISTANCE|WHEELS_ON|TAXI_IN|SCHEDULED_ARRIVAL|ARRIVAL_TIME|ARRIVAL_DELAY|DIVERTED|CANCELLED|CANCELLATION_REASON|AIR_SYSTEM_DELAY|SECURITY_DELAY|AIRLINE_DELAY|LATE_AIRCRAFT_DELAY|WEATHER_DELAY|\n",
      "+----+-----+---+-----------+-------+-------------+-----------+--------------+-------------------+-------------------+--------------+---------------+--------+----------+--------------+------------+--------+--------+---------+-------+-----------------+------------+-------------+--------+---------+-------------------+----------------+--------------+-------------+-------------------+-------------+\n",
      "|2015|    1|  1|          4|     AS|           98|     N407AS|           ANC|                SEA|                  5|          2354|            -11|      21|        15|           205|         194|     169|    1448|      404|      4|              430|         408|          -22|       0|        0|               null|            null|          null|         null|               null|         null|\n",
      "+----+-----+---+-----------+-------+-------------+-----------+--------------+-------------------+-------------------+--------------+---------------+--------+----------+--------------+------------+--------+--------+---------+-------+-----------------+------------+-------------+--------+---------+-------------------+----------------+--------------+-------------+-------------------+-------------+\n",
      "only showing top 1 row\n",
      "\n"
     ]
    }
   ],
   "source": [
    "flight_df.show(1)"
   ]
  },
  {
   "cell_type": "code",
   "execution_count": 13,
   "id": "e6993f8e",
   "metadata": {},
   "outputs": [],
   "source": [
    "airline_df=spark.read.csv(r\"C:\\Users\\16478\\Desktop\\dataset\\airlines.csv\", sep=',',inferSchema=True, header=True)"
   ]
  },
  {
   "cell_type": "code",
   "execution_count": 142,
   "id": "dced8f16",
   "metadata": {},
   "outputs": [
    {
     "name": "stdout",
     "output_type": "stream",
     "text": [
      "+---------+--------------------+\n",
      "|IATA_CODE|             AIRLINE|\n",
      "+---------+--------------------+\n",
      "|       UA|United Air Lines ...|\n",
      "+---------+--------------------+\n",
      "only showing top 1 row\n",
      "\n"
     ]
    }
   ],
   "source": [
    "airline_df.show(1)"
   ]
  },
  {
   "cell_type": "code",
   "execution_count": 13,
   "id": "1bbc46d5",
   "metadata": {},
   "outputs": [
    {
     "name": "stdout",
     "output_type": "stream",
     "text": [
      "Airline Dataset Shape - (14, 2)\n",
      "Fligh Dataset Shape - (5819079, 31)\n",
      "Aiport Dataset Shape - (322, 7)\n"
     ]
    }
   ],
   "source": [
    "#Check the data shape for 3 files \n",
    "\n",
    "print(\"Airline Dataset Shape -\",(airline_df.count(), len(airline_df.columns)))\n",
    "print(\"Fligh Dataset Shape -\",(flight_df.count(), len(flight_df.columns)))\n",
    "print(\"Aiport Dataset Shape -\",(airport_df.count(), len(airport_df.columns)))"
   ]
  },
  {
   "cell_type": "code",
   "execution_count": 14,
   "id": "0cd87a26",
   "metadata": {},
   "outputs": [
    {
     "name": "stdout",
     "output_type": "stream",
     "text": [
      "[]\n"
     ]
    }
   ],
   "source": [
    "print(spark.catalog.listTables())"
   ]
  },
  {
   "cell_type": "code",
   "execution_count": 14,
   "id": "5e8bb1d1",
   "metadata": {},
   "outputs": [],
   "source": [
    "flight_df.createOrReplaceTempView('flights')"
   ]
  },
  {
   "cell_type": "code",
   "execution_count": 143,
   "id": "af8ffdcc",
   "metadata": {},
   "outputs": [],
   "source": [
    "airline_df.createOrReplaceTempView('airlines')"
   ]
  },
  {
   "cell_type": "code",
   "execution_count": 144,
   "id": "76774d86",
   "metadata": {},
   "outputs": [],
   "source": [
    "airport_df.createOrReplaceTempView('airports')"
   ]
  },
  {
   "cell_type": "code",
   "execution_count": 18,
   "id": "4cf6c742",
   "metadata": {},
   "outputs": [
    {
     "name": "stdout",
     "output_type": "stream",
     "text": [
      "[Table(name='airlines', database=None, description=None, tableType='TEMPORARY', isTemporary=True), Table(name='airports', database=None, description=None, tableType='TEMPORARY', isTemporary=True), Table(name='flights', database=None, description=None, tableType='TEMPORARY', isTemporary=True)]\n"
     ]
    }
   ],
   "source": [
    "print(spark.catalog.listTables())"
   ]
  },
  {
   "cell_type": "code",
   "execution_count": 19,
   "id": "67174513",
   "metadata": {},
   "outputs": [
    {
     "name": "stdout",
     "output_type": "stream",
     "text": [
      "['YEAR', 'MONTH', 'DAY', 'DAY_OF_WEEK', 'AIRLINE', 'FLIGHT_NUMBER', 'TAIL_NUMBER', 'ORIGIN_AIRPORT', 'DESTINATION_AIRPORT', 'SCHEDULED_DEPARTURE', 'DEPARTURE_TIME', 'DEPARTURE_DELAY', 'TAXI_OUT', 'WHEELS_OFF', 'SCHEDULED_TIME', 'ELAPSED_TIME', 'AIR_TIME', 'DISTANCE', 'WHEELS_ON', 'TAXI_IN', 'SCHEDULED_ARRIVAL', 'ARRIVAL_TIME', 'ARRIVAL_DELAY', 'DIVERTED', 'CANCELLED', 'CANCELLATION_REASON', 'AIR_SYSTEM_DELAY', 'SECURITY_DELAY', 'AIRLINE_DELAY', 'LATE_AIRCRAFT_DELAY', 'WEATHER_DELAY']\n",
      "************************************************************************************************************************\n",
      "['IATA_CODE', 'AIRPORT', 'CITY', 'STATE', 'COUNTRY', 'LATITUDE', 'LONGITUDE']\n",
      "************************************************************************************************************************\n",
      "['IATA_CODE', 'AIRLINE']\n"
     ]
    }
   ],
   "source": [
    "#Columns\n",
    "print(flight_df.columns)\n",
    "print('******'*20)\n",
    "print(airport_df.columns)\n",
    "print('******'*20)\n",
    "print(airline_df.columns)"
   ]
  },
  {
   "cell_type": "code",
   "execution_count": 42,
   "id": "e34c0790",
   "metadata": {},
   "outputs": [],
   "source": [
    "#Data Querying"
   ]
  },
  {
   "cell_type": "code",
   "execution_count": 43,
   "id": "88f50395",
   "metadata": {},
   "outputs": [],
   "source": [
    "q1=\"SELECT AIRLINE, FLIGHT_NUMBER, TAIL_NUMBER, ORIGIN_AIRPORT, DESTINATION_AIRPORT, SCHEDULED_DEPARTURE FROM flights LIMIT 10\""
   ]
  },
  {
   "cell_type": "code",
   "execution_count": 44,
   "id": "7b8273ed",
   "metadata": {},
   "outputs": [],
   "source": [
    "flights_q1=spark.sql(q1)"
   ]
  },
  {
   "cell_type": "code",
   "execution_count": 45,
   "id": "40f4ed84",
   "metadata": {},
   "outputs": [
    {
     "name": "stdout",
     "output_type": "stream",
     "text": [
      "+-------+-------------+-----------+--------------+-------------------+-------------------+\n",
      "|AIRLINE|FLIGHT_NUMBER|TAIL_NUMBER|ORIGIN_AIRPORT|DESTINATION_AIRPORT|SCHEDULED_DEPARTURE|\n",
      "+-------+-------------+-----------+--------------+-------------------+-------------------+\n",
      "|     AS|           98|     N407AS|           ANC|                SEA|                  5|\n",
      "|     AA|         2336|     N3KUAA|           LAX|                PBI|                 10|\n",
      "|     US|          840|     N171US|           SFO|                CLT|                 20|\n",
      "|     AA|          258|     N3HYAA|           LAX|                MIA|                 20|\n",
      "|     AS|          135|     N527AS|           SEA|                ANC|                 25|\n",
      "|     DL|          806|     N3730B|           SFO|                MSP|                 25|\n",
      "|     NK|          612|     N635NK|           LAS|                MSP|                 25|\n",
      "|     US|         2013|     N584UW|           LAX|                CLT|                 30|\n",
      "|     AA|         1112|     N3LAAA|           SFO|                DFW|                 30|\n",
      "|     DL|         1173|     N826DN|           LAS|                ATL|                 30|\n",
      "+-------+-------------+-----------+--------------+-------------------+-------------------+\n",
      "\n"
     ]
    }
   ],
   "source": [
    "flights_q1.show()"
   ]
  },
  {
   "cell_type": "code",
   "execution_count": 46,
   "id": "d23cc6b5",
   "metadata": {},
   "outputs": [],
   "source": [
    "q2= \"SELECT ORIGIN_AIRPORT, DESTINATION_AIRPORT, COUNT(*) as COUNT FROM flights GROUP BY ORIGIN_AIRPORT, DESTINATION_AIRPORT\""
   ]
  },
  {
   "cell_type": "code",
   "execution_count": 47,
   "id": "148b10e3",
   "metadata": {},
   "outputs": [],
   "source": [
    "flights_q2=spark.sql(q2)"
   ]
  },
  {
   "cell_type": "code",
   "execution_count": 48,
   "id": "7f9cd61a",
   "metadata": {},
   "outputs": [
    {
     "name": "stdout",
     "output_type": "stream",
     "text": [
      "+--------------+-------------------+-----+\n",
      "|ORIGIN_AIRPORT|DESTINATION_AIRPORT|COUNT|\n",
      "+--------------+-------------------+-----+\n",
      "|           BQN|                MCO|  441|\n",
      "|           PHL|                MCO| 4869|\n",
      "|           MCI|                IAH| 1698|\n",
      "|           SPI|                ORD|  998|\n",
      "|           SNA|                PHX| 3846|\n",
      "|           LBB|                DEN|  618|\n",
      "|           ORD|                PDX| 2149|\n",
      "|           EWR|                STT|  239|\n",
      "|           ATL|                GSP| 2470|\n",
      "|           MCI|                MKE|  612|\n",
      "|           PBI|                DCA|  978|\n",
      "|           SMF|                BUR| 2092|\n",
      "|           MDW|                MEM|  628|\n",
      "|           LAS|                LIT|  334|\n",
      "|           TPA|                ACY|  335|\n",
      "|           DSM|                EWR|  191|\n",
      "|           FSD|                ATL|  329|\n",
      "|           SJC|                LIH|  190|\n",
      "|           CLE|                SJU|   43|\n",
      "|           CPR|                DEN|  956|\n",
      "+--------------+-------------------+-----+\n",
      "only showing top 20 rows\n",
      "\n"
     ]
    }
   ],
   "source": [
    "flights_q2.show()"
   ]
  },
  {
   "cell_type": "code",
   "execution_count": 49,
   "id": "cf3d40a9",
   "metadata": {},
   "outputs": [],
   "source": [
    "pd_q2=flights_q2.toPandas()"
   ]
  },
  {
   "cell_type": "code",
   "execution_count": 50,
   "id": "1a8326ad",
   "metadata": {},
   "outputs": [
    {
     "name": "stdout",
     "output_type": "stream",
     "text": [
      "  ORIGIN_AIRPORT DESTINATION_AIRPORT  COUNT\n",
      "0            BQN                 MCO    441\n",
      "1            PHL                 MCO   4869\n",
      "2            MCI                 IAH   1698\n",
      "3            SPI                 ORD    998\n",
      "4            SNA                 PHX   3846\n"
     ]
    }
   ],
   "source": [
    "print(pd_q2.head())"
   ]
  },
  {
   "cell_type": "code",
   "execution_count": null,
   "id": "198854e6",
   "metadata": {},
   "outputs": [],
   "source": []
  },
  {
   "cell_type": "code",
   "execution_count": 17,
   "id": "40373863",
   "metadata": {},
   "outputs": [],
   "source": [
    "#Converting flight suration from min to hrs\n",
    "\n",
    "flight_table=spark.table(\"flights\")"
   ]
  },
  {
   "cell_type": "code",
   "execution_count": 18,
   "id": "8c701222",
   "metadata": {},
   "outputs": [],
   "source": [
    "flight_table=flight_table.withColumn('duration_hrs', flight_table.AIR_TIME/60.)"
   ]
  },
  {
   "cell_type": "code",
   "execution_count": 22,
   "id": "f1bfa287",
   "metadata": {},
   "outputs": [
    {
     "name": "stdout",
     "output_type": "stream",
     "text": [
      "+-----------------+\n",
      "|     duration_hrs|\n",
      "+-----------------+\n",
      "|2.816666666666667|\n",
      "|4.383333333333334|\n",
      "+-----------------+\n",
      "only showing top 2 rows\n",
      "\n"
     ]
    }
   ],
   "source": [
    "flight_table.select('duration_hrs').show(2)"
   ]
  },
  {
   "cell_type": "code",
   "execution_count": 23,
   "id": "f4f3dbd9",
   "metadata": {},
   "outputs": [],
   "source": [
    "long_flight_filter=flight_table.filter(\"DISTANCE > 1000\")"
   ]
  },
  {
   "cell_type": "code",
   "execution_count": 24,
   "id": "80aea701",
   "metadata": {},
   "outputs": [
    {
     "name": "stdout",
     "output_type": "stream",
     "text": [
      "+----+-----+---+-----------+-------+-------------+-----------+--------------+-------------------+-------------------+--------------+---------------+--------+----------+--------------+------------+--------+--------+---------+-------+-----------------+------------+-------------+--------+---------+-------------------+----------------+--------------+-------------+-------------------+-------------+-----------------+\n",
      "|YEAR|MONTH|DAY|DAY_OF_WEEK|AIRLINE|FLIGHT_NUMBER|TAIL_NUMBER|ORIGIN_AIRPORT|DESTINATION_AIRPORT|SCHEDULED_DEPARTURE|DEPARTURE_TIME|DEPARTURE_DELAY|TAXI_OUT|WHEELS_OFF|SCHEDULED_TIME|ELAPSED_TIME|AIR_TIME|DISTANCE|WHEELS_ON|TAXI_IN|SCHEDULED_ARRIVAL|ARRIVAL_TIME|ARRIVAL_DELAY|DIVERTED|CANCELLED|CANCELLATION_REASON|AIR_SYSTEM_DELAY|SECURITY_DELAY|AIRLINE_DELAY|LATE_AIRCRAFT_DELAY|WEATHER_DELAY|     duration_hrs|\n",
      "+----+-----+---+-----------+-------+-------------+-----------+--------------+-------------------+-------------------+--------------+---------------+--------+----------+--------------+------------+--------+--------+---------+-------+-----------------+------------+-------------+--------+---------+-------------------+----------------+--------------+-------------+-------------------+-------------+-----------------+\n",
      "|2015|    1|  1|          4|     AS|           98|     N407AS|           ANC|                SEA|                  5|          2354|            -11|      21|        15|           205|         194|     169|    1448|      404|      4|              430|         408|          -22|       0|        0|               null|            null|          null|         null|               null|         null|2.816666666666667|\n",
      "|2015|    1|  1|          4|     AA|         2336|     N3KUAA|           LAX|                PBI|                 10|             2|             -8|      12|        14|           280|         279|     263|    2330|      737|      4|              750|         741|           -9|       0|        0|               null|            null|          null|         null|               null|         null|4.383333333333334|\n",
      "+----+-----+---+-----------+-------+-------------+-----------+--------------+-------------------+-------------------+--------------+---------------+--------+----------+--------------+------------+--------+--------+---------+-------+-----------------+------------+-------------+--------+---------+-------------------+----------------+--------------+-------------+-------------------+-------------+-----------------+\n",
      "only showing top 2 rows\n",
      "\n"
     ]
    }
   ],
   "source": [
    "long_flight_filter.show(2)"
   ]
  },
  {
   "cell_type": "code",
   "execution_count": 58,
   "id": "5aca9a27",
   "metadata": {},
   "outputs": [],
   "source": [
    "pd_long_flight_filter=long_flight_filter.toPandas()"
   ]
  },
  {
   "cell_type": "code",
   "execution_count": 59,
   "id": "79607a2a",
   "metadata": {},
   "outputs": [
    {
     "name": "stdout",
     "output_type": "stream",
     "text": [
      "   YEAR  MONTH  DAY  DAY_OF_WEEK AIRLINE  FLIGHT_NUMBER TAIL_NUMBER  \\\n",
      "0  2015      1    1            4      AS             98      N407AS   \n",
      "1  2015      1    1            4      AA           2336      N3KUAA   \n",
      "2  2015      1    1            4      US            840      N171US   \n",
      "3  2015      1    1            4      AA            258      N3HYAA   \n",
      "4  2015      1    1            4      AS            135      N527AS   \n",
      "\n",
      "  ORIGIN_AIRPORT DESTINATION_AIRPORT  SCHEDULED_DEPARTURE  ...  ARRIVAL_DELAY  \\\n",
      "0            ANC                 SEA                    5  ...          -22.0   \n",
      "1            LAX                 PBI                   10  ...           -9.0   \n",
      "2            SFO                 CLT                   20  ...            5.0   \n",
      "3            LAX                 MIA                   20  ...           -9.0   \n",
      "4            SEA                 ANC                   25  ...          -21.0   \n",
      "\n",
      "   DIVERTED  CANCELLED  CANCELLATION_REASON  AIR_SYSTEM_DELAY  SECURITY_DELAY  \\\n",
      "0         0          0                 None               NaN             NaN   \n",
      "1         0          0                 None               NaN             NaN   \n",
      "2         0          0                 None               NaN             NaN   \n",
      "3         0          0                 None               NaN             NaN   \n",
      "4         0          0                 None               NaN             NaN   \n",
      "\n",
      "   AIRLINE_DELAY  LATE_AIRCRAFT_DELAY  WEATHER_DELAY  duration_hrs  \n",
      "0            NaN                  NaN            NaN      2.816667  \n",
      "1            NaN                  NaN            NaN      4.383333  \n",
      "2            NaN                  NaN            NaN      4.433333  \n",
      "3            NaN                  NaN            NaN      4.300000  \n",
      "4            NaN                  NaN            NaN      3.316667  \n",
      "\n",
      "[5 rows x 32 columns]\n"
     ]
    }
   ],
   "source": [
    "print(pd_long_flight_filter.head())"
   ]
  },
  {
   "cell_type": "code",
   "execution_count": 15,
   "id": "305a2c69",
   "metadata": {},
   "outputs": [],
   "source": [
    "#Select \n",
    "\n",
    "select_flight=flight_table.select('TAIL_NUMBER', 'ORIGIN_AIRPORT', 'DESTINATION_AIRPORT','AIRLINE')"
   ]
  },
  {
   "cell_type": "code",
   "execution_count": 62,
   "id": "67dedf17",
   "metadata": {},
   "outputs": [
    {
     "name": "stdout",
     "output_type": "stream",
     "text": [
      "+-----------+--------------+-------------------+-------+\n",
      "|TAIL_NUMBER|ORIGIN_AIRPORT|DESTINATION_AIRPORT|AIRLINE|\n",
      "+-----------+--------------+-------------------+-------+\n",
      "|     N407AS|           ANC|                SEA|     AS|\n",
      "|     N3KUAA|           LAX|                PBI|     AA|\n",
      "+-----------+--------------+-------------------+-------+\n",
      "only showing top 2 rows\n",
      "\n"
     ]
    }
   ],
   "source": [
    "select_flight.show(2)"
   ]
  },
  {
   "cell_type": "code",
   "execution_count": 63,
   "id": "4cc1c647",
   "metadata": {},
   "outputs": [],
   "source": [
    "#Filter\n",
    "\n",
    "filter_1=flight_table.ORIGIN_AIRPORT==\"LAX\"\n",
    "\n",
    "filter_2=flight_table.DESTINATION_AIRPORT==\"PBI\"\n",
    "\n",
    "join_filter=select_flight.filter(filter_1).filter(filter_2)\n"
   ]
  },
  {
   "cell_type": "code",
   "execution_count": 65,
   "id": "fc26ec10",
   "metadata": {},
   "outputs": [
    {
     "name": "stdout",
     "output_type": "stream",
     "text": [
      "+-----------+--------------+-------------------+-------+\n",
      "|TAIL_NUMBER|ORIGIN_AIRPORT|DESTINATION_AIRPORT|AIRLINE|\n",
      "+-----------+--------------+-------------------+-------+\n",
      "|     N3KUAA|           LAX|                PBI|     AA|\n",
      "|     N3HPAA|           LAX|                PBI|     AA|\n",
      "|     N3ERAA|           LAX|                PBI|     AA|\n",
      "|     N3JHAA|           LAX|                PBI|     AA|\n",
      "|     N3FKAA|           LAX|                PBI|     AA|\n",
      "+-----------+--------------+-------------------+-------+\n",
      "only showing top 5 rows\n",
      "\n"
     ]
    }
   ],
   "source": [
    "join_filter.show(5)"
   ]
  },
  {
   "cell_type": "code",
   "execution_count": 16,
   "id": "b1620619",
   "metadata": {},
   "outputs": [],
   "source": [
    "speed=(flight_table.DISTANCE/(flight_table.AIR_TIME/60)).alias(\"speed\")\n",
    "\n",
    "select_speed=flight_table.select('TAIL_NUMBER', 'ORIGIN_AIRPORT', 'DESTINATION_AIRPORT', speed)"
   ]
  },
  {
   "cell_type": "code",
   "execution_count": 67,
   "id": "3bae9b9d",
   "metadata": {},
   "outputs": [
    {
     "name": "stdout",
     "output_type": "stream",
     "text": [
      "+-----------+--------------+-------------------+-----------------+\n",
      "|TAIL_NUMBER|ORIGIN_AIRPORT|DESTINATION_AIRPORT|            speed|\n",
      "+-----------+--------------+-------------------+-----------------+\n",
      "|     N407AS|           ANC|                SEA|514.0828402366864|\n",
      "|     N3KUAA|           LAX|                PBI|531.5589353612166|\n",
      "|     N171US|           SFO|                CLT|517.8947368421052|\n",
      "+-----------+--------------+-------------------+-----------------+\n",
      "only showing top 3 rows\n",
      "\n"
     ]
    }
   ],
   "source": [
    "select_speed.show(3)"
   ]
  },
  {
   "cell_type": "code",
   "execution_count": 19,
   "id": "324fcf67",
   "metadata": {},
   "outputs": [],
   "source": [
    "#Data Types conversion\n",
    "\n",
    "flight_table = flight_table.withColumn(\"MONTH\", flight_table.MONTH.cast(\"integer\"))\n",
    "flight_table = flight_table.withColumn(\"DAY_OF_WEEK\", flight_table.DAY_OF_WEEK.cast(\"integer\"))\n",
    "flight_table = flight_table.withColumn(\"AIR_TIME\", flight_table.AIR_TIME.cast(\"integer\"))\n",
    "flight_table = flight_table.withColumn(\"DISTANCE\", flight_table.DISTANCE.cast(\"double\"))\n",
    "flight_table = flight_table.withColumn(\"ARRIVAL_DELAY\", flight_table.ARRIVAL_DELAY.cast(\"integer\"))\n"
   ]
  },
  {
   "cell_type": "code",
   "execution_count": null,
   "id": "f5169f6f",
   "metadata": {},
   "outputs": [],
   "source": []
  },
  {
   "cell_type": "code",
   "execution_count": 69,
   "id": "1a7955c9",
   "metadata": {},
   "outputs": [
    {
     "name": "stdout",
     "output_type": "stream",
     "text": [
      "+-------------+\n",
      "|min(DISTANCE)|\n",
      "+-------------+\n",
      "|        160.0|\n",
      "+-------------+\n",
      "\n",
      "+-------------+\n",
      "|min(DISTANCE)|\n",
      "+-------------+\n",
      "|         86.0|\n",
      "+-------------+\n",
      "\n",
      "+-------------+\n",
      "|min(DISTANCE)|\n",
      "+-------------+\n",
      "|         77.0|\n",
      "+-------------+\n",
      "\n"
     ]
    }
   ],
   "source": [
    "# How to get shortest flight from ANC \n",
    "flight_table.filter(flight_table.ORIGIN_AIRPORT == 'ANC').groupBy().min('DISTANCE').show()\n",
    "# How to get shortest flight from LAX\n",
    "flight_table.filter(flight_table.ORIGIN_AIRPORT == 'LAX').groupBy().min('DISTANCE').show()\n",
    "# How to get shortest flight from SFO\n",
    "flight_table.filter(flight_table.ORIGIN_AIRPORT == 'SFO').groupBy().min('DISTANCE').show()"
   ]
  },
  {
   "cell_type": "code",
   "execution_count": 70,
   "id": "4d28c9f9",
   "metadata": {},
   "outputs": [
    {
     "name": "stdout",
     "output_type": "stream",
     "text": [
      "+-------------+\n",
      "|max(DISTANCE)|\n",
      "+-------------+\n",
      "|       3417.0|\n",
      "+-------------+\n",
      "\n",
      "+-------------+\n",
      "|max(DISTANCE)|\n",
      "+-------------+\n",
      "|       2615.0|\n",
      "+-------------+\n",
      "\n",
      "+-------------+\n",
      "|max(DISTANCE)|\n",
      "+-------------+\n",
      "|       2704.0|\n",
      "+-------------+\n",
      "\n"
     ]
    }
   ],
   "source": [
    "# How to get shortest flight from ANC \n",
    "flight_table.filter(flight_table.ORIGIN_AIRPORT == 'ANC').groupBy().max('DISTANCE').show()\n",
    "# How to get shortest flight from LAX\n",
    "flight_table.filter(flight_table.ORIGIN_AIRPORT == 'LAX').groupBy().max('DISTANCE').show()\n",
    "# How to get shortest flight from SFO\n",
    "flight_table.filter(flight_table.ORIGIN_AIRPORT == 'SFO').groupBy().max('DISTANCE').show()"
   ]
  },
  {
   "cell_type": "code",
   "execution_count": 71,
   "id": "4e95bdd2",
   "metadata": {},
   "outputs": [
    {
     "name": "stdout",
     "output_type": "stream",
     "text": [
      "+-------------+\n",
      "|min(AIR_TIME)|\n",
      "+-------------+\n",
      "|           27|\n",
      "+-------------+\n",
      "\n",
      "+-------------+\n",
      "|min(AIR_TIME)|\n",
      "+-------------+\n",
      "|           14|\n",
      "+-------------+\n",
      "\n",
      "+-------------+\n",
      "|min(AIR_TIME)|\n",
      "+-------------+\n",
      "|            8|\n",
      "+-------------+\n",
      "\n"
     ]
    }
   ],
   "source": [
    "# How to get shortest flight from ANC with respect to time in air \n",
    "flight_table.filter(flight_table.ORIGIN_AIRPORT == 'ANC').groupBy().min('AIR_TIME').show()\n",
    "# How to get shortest flight from LAX\n",
    "flight_table.filter(flight_table.ORIGIN_AIRPORT == 'LAX').groupBy().min('AIR_TIME').show()\n",
    "# How to get shortest flight from SFO\n",
    "flight_table.filter(flight_table.ORIGIN_AIRPORT == 'SFO').groupBy().min('AIR_TIME').show()"
   ]
  },
  {
   "cell_type": "code",
   "execution_count": 72,
   "id": "edaae0d5",
   "metadata": {},
   "outputs": [
    {
     "name": "stdout",
     "output_type": "stream",
     "text": [
      "+-------------+\n",
      "|max(AIR_TIME)|\n",
      "+-------------+\n",
      "|          426|\n",
      "+-------------+\n",
      "\n",
      "+-------------+\n",
      "|max(AIR_TIME)|\n",
      "+-------------+\n",
      "|          409|\n",
      "+-------------+\n",
      "\n",
      "+-------------+\n",
      "|max(AIR_TIME)|\n",
      "+-------------+\n",
      "|          389|\n",
      "+-------------+\n",
      "\n"
     ]
    }
   ],
   "source": [
    "# How to get longest flight from ANC with respect to time in air \n",
    "flight_table.filter(flight_table.ORIGIN_AIRPORT == 'ANC').groupBy().max('AIR_TIME').show()\n",
    "# How to get longest flight from LAX\n",
    "flight_table.filter(flight_table.ORIGIN_AIRPORT == 'LAX').groupBy().max('AIR_TIME').show()\n",
    "# How to get longest flight from SFO\n",
    "flight_table.filter(flight_table.ORIGIN_AIRPORT == 'SFO').groupBy().max('AIR_TIME').show()"
   ]
  },
  {
   "cell_type": "code",
   "execution_count": 73,
   "id": "fb830f7c",
   "metadata": {},
   "outputs": [],
   "source": [
    "tail_number_filter=flight_table.groupBy(\"TAIL_NUMBER\")\n",
    "origin_count_filter=flight_table.groupBy(\"ORIGIN_AIRPORT\")"
   ]
  },
  {
   "cell_type": "code",
   "execution_count": 74,
   "id": "cef7a7d0",
   "metadata": {},
   "outputs": [
    {
     "name": "stdout",
     "output_type": "stream",
     "text": [
      "Tail Number Count\n",
      "+-----------+-----+\n",
      "|TAIL_NUMBER|count|\n",
      "+-----------+-----+\n",
      "|     N38451|  946|\n",
      "|     N567AA| 1458|\n",
      "|     N623NK| 1669|\n",
      "|     N442AS| 1210|\n",
      "|     N902DE| 1704|\n",
      "+-----------+-----+\n",
      "only showing top 5 rows\n",
      "\n",
      "Airport Origin Count\n",
      "+--------------+-----+\n",
      "|ORIGIN_AIRPORT|count|\n",
      "+--------------+-----+\n",
      "|           BGM|  262|\n",
      "|           PSE|  749|\n",
      "|           INL|  574|\n",
      "|           MSY|38804|\n",
      "|           PPG|  107|\n",
      "+--------------+-----+\n",
      "only showing top 5 rows\n",
      "\n"
     ]
    }
   ],
   "source": [
    "print(\"Tail Number Count\")\n",
    "tail_number_filter.count().show(5)\n",
    "print(\"Airport Origin Count\")\n",
    "origin_count_filter.count().show(5)"
   ]
  },
  {
   "cell_type": "code",
   "execution_count": 75,
   "id": "0c407cce",
   "metadata": {},
   "outputs": [],
   "source": [
    "#Checking Data by month"
   ]
  },
  {
   "cell_type": "code",
   "execution_count": 20,
   "id": "8c71e974",
   "metadata": {},
   "outputs": [],
   "source": [
    "import pyspark.sql.functions as fun"
   ]
  },
  {
   "cell_type": "code",
   "execution_count": 21,
   "id": "6d6c1ee6",
   "metadata": {},
   "outputs": [],
   "source": [
    "flight_table = flight_table.withColumn(\"DEPARTURE_DELAY\", flight_table.DEPARTURE_DELAY.cast(\"integer\"))"
   ]
  },
  {
   "cell_type": "code",
   "execution_count": 22,
   "id": "0198c9a1",
   "metadata": {},
   "outputs": [],
   "source": [
    "month=flight_table.groupBy('MONTH','DESTINATION_AIRPORT')"
   ]
  },
  {
   "cell_type": "code",
   "execution_count": 23,
   "id": "edd1ee4e",
   "metadata": {},
   "outputs": [
    {
     "name": "stdout",
     "output_type": "stream",
     "text": [
      "+-----+-------------------+--------------------+\n",
      "|MONTH|DESTINATION_AIRPORT|avg(DEPARTURE_DELAY)|\n",
      "+-----+-------------------+--------------------+\n",
      "|    1|                ACY|    8.33433734939759|\n",
      "|    1|                EYW|   6.551440329218107|\n",
      "|    1|                OME|                0.05|\n",
      "|    1|                RDM|   9.701863354037267|\n",
      "|    1|                TWF|  -4.711864406779661|\n",
      "+-----+-------------------+--------------------+\n",
      "only showing top 5 rows\n",
      "\n"
     ]
    }
   ],
   "source": [
    "avg_Delays=month.avg('DEPARTURE_DELAY').show(5)"
   ]
  },
  {
   "cell_type": "code",
   "execution_count": 81,
   "id": "216099a5",
   "metadata": {},
   "outputs": [
    {
     "name": "stdout",
     "output_type": "stream",
     "text": [
      "+-----+-------------------+----------------------------+\n",
      "|MONTH|DESTINATION_AIRPORT|stddev_samp(DEPARTURE_DELAY)|\n",
      "+-----+-------------------+----------------------------+\n",
      "|    1|                ACY|           32.81265545745788|\n",
      "|    1|                EYW|           63.65052137951282|\n",
      "|    1|                OME|          19.546923118225806|\n",
      "|    1|                RDM|          34.260918828983726|\n",
      "|    1|                TWF|           7.985009333135624|\n",
      "+-----+-------------------+----------------------------+\n",
      "only showing top 5 rows\n",
      "\n"
     ]
    }
   ],
   "source": [
    "sd_Delay=month.agg(fun.stddev('DEPARTURE_DELAY')).show(5)"
   ]
  },
  {
   "cell_type": "code",
   "execution_count": 24,
   "id": "33db7be2",
   "metadata": {},
   "outputs": [],
   "source": [
    "airport_table=airport_df.withColumnRenamed(\"IATA_CODE\", \"DESTINATION_AIRPORT\")"
   ]
  },
  {
   "cell_type": "code",
   "execution_count": 84,
   "id": "7c3bdb5a",
   "metadata": {},
   "outputs": [],
   "source": [
    "#joining flight datase and airport dataset"
   ]
  },
  {
   "cell_type": "code",
   "execution_count": 25,
   "id": "82f678cb",
   "metadata": {},
   "outputs": [],
   "source": [
    "air_manager=flight_table.join(airport_table,on='DESTINATION_AIRPORT', how = 'leftouter')"
   ]
  },
  {
   "cell_type": "code",
   "execution_count": 87,
   "id": "e119027d",
   "metadata": {},
   "outputs": [],
   "source": [
    "#check joined table"
   ]
  },
  {
   "cell_type": "code",
   "execution_count": 32,
   "id": "e32b8e87",
   "metadata": {},
   "outputs": [
    {
     "name": "stdout",
     "output_type": "stream",
     "text": [
      "+-------------------+----+-----+---+-----------+-------+-------------+-----------+--------------+-------------------+--------------+---------------+--------+----------+--------------+------------+--------+--------+---------+-------+-----------------+------------+-------------+--------+---------+-------------------+----------------+--------------+-------------+-------------------+-------------+-----------------+--------------------+---------------+-----+-------+--------+----------+\n",
      "|DESTINATION_AIRPORT|YEAR|MONTH|DAY|DAY_OF_WEEK|AIRLINE|FLIGHT_NUMBER|TAIL_NUMBER|ORIGIN_AIRPORT|SCHEDULED_DEPARTURE|DEPARTURE_TIME|DEPARTURE_DELAY|TAXI_OUT|WHEELS_OFF|SCHEDULED_TIME|ELAPSED_TIME|AIR_TIME|DISTANCE|WHEELS_ON|TAXI_IN|SCHEDULED_ARRIVAL|ARRIVAL_TIME|ARRIVAL_DELAY|DIVERTED|CANCELLED|CANCELLATION_REASON|AIR_SYSTEM_DELAY|SECURITY_DELAY|AIRLINE_DELAY|LATE_AIRCRAFT_DELAY|WEATHER_DELAY|     duration_hrs|             AIRPORT|           CITY|STATE|COUNTRY|LATITUDE| LONGITUDE|\n",
      "+-------------------+----+-----+---+-----------+-------+-------------+-----------+--------------+-------------------+--------------+---------------+--------+----------+--------------+------------+--------+--------+---------+-------+-----------------+------------+-------------+--------+---------+-------------------+----------------+--------------+-------------+-------------------+-------------+-----------------+--------------------+---------------+-----+-------+--------+----------+\n",
      "|                SEA|2015|    1|  1|          4|     AS|           98|     N407AS|           ANC|                  5|          2354|            -11|      21|        15|           205|         194|     169|  1448.0|      404|      4|              430|         408|          -22|       0|        0|               null|            null|          null|         null|               null|         null|2.816666666666667|Seattle-Tacoma In...|        Seattle|   WA|    USA|47.44898|-122.30931|\n",
      "|                PBI|2015|    1|  1|          4|     AA|         2336|     N3KUAA|           LAX|                 10|             2|             -8|      12|        14|           280|         279|     263|  2330.0|      737|      4|              750|         741|           -9|       0|        0|               null|            null|          null|         null|               null|         null|4.383333333333334|Palm Beach Intern...|West Palm Beach|   FL|    USA|26.68316| -80.09559|\n",
      "+-------------------+----+-----+---+-----------+-------+-------------+-----------+--------------+-------------------+--------------+---------------+--------+----------+--------------+------------+--------+--------+---------+-------+-----------------+------------+-------------+--------+---------+-------------------+----------------+--------------+-------------+-------------------+-------------+-----------------+--------------------+---------------+-----+-------+--------+----------+\n",
      "only showing top 2 rows\n",
      "\n"
     ]
    }
   ],
   "source": [
    "air_manager.show(2)"
   ]
  },
  {
   "cell_type": "code",
   "execution_count": 89,
   "id": "2d6e5d70",
   "metadata": {},
   "outputs": [
    {
     "name": "stdout",
     "output_type": "stream",
     "text": [
      "+-------------+--------------------+---------------+-----+-------+--------+----------+\n",
      "|FLIGHT_NUMBER|             AIRPORT|           CITY|STATE|COUNTRY|LATITUDE| LONGITUDE|\n",
      "+-------------+--------------------+---------------+-----+-------+--------+----------+\n",
      "|           98|Seattle-Tacoma In...|        Seattle|   WA|    USA|47.44898|-122.30931|\n",
      "|         2336|Palm Beach Intern...|West Palm Beach|   FL|    USA|26.68316| -80.09559|\n",
      "|          840|Charlotte Douglas...|      Charlotte|   NC|    USA|35.21401| -80.94313|\n",
      "|          258|Miami Internation...|          Miami|   FL|    USA|25.79325| -80.29056|\n",
      "|          135|Ted Stevens Ancho...|      Anchorage|   AK|    USA|61.17432|-149.99619|\n",
      "+-------------+--------------------+---------------+-----+-------+--------+----------+\n",
      "only showing top 5 rows\n",
      "\n"
     ]
    }
   ],
   "source": [
    "air_manager.select('FLIGHT_NUMBER', 'AIRPORT', 'CITY', 'STATE', 'COUNTRY', 'LATITUDE', 'LONGITUDE').show(5)"
   ]
  },
  {
   "cell_type": "markdown",
   "id": "ce78951e",
   "metadata": {},
   "source": [
    "### Highest Flight Departure Airport"
   ]
  },
  {
   "cell_type": "code",
   "execution_count": 19,
   "id": "99296293",
   "metadata": {},
   "outputs": [
    {
     "name": "stdout",
     "output_type": "stream",
     "text": [
      "+--------------+---------+\n",
      "|ORIGIN_AIRPORT|   Flight|\n",
      "+--------------+---------+\n",
      "|           ATL|508100303|\n",
      "|           ORD|395696913|\n",
      "|           DFW|336914905|\n",
      "|           DEN|272395117|\n",
      "|           LAX|263070698|\n",
      "|           IAH|203396933|\n",
      "|           SFO|202297656|\n",
      "|           PHX|197875290|\n",
      "|           LAS|177168732|\n",
      "|           MSP|154002871|\n",
      "+--------------+---------+\n",
      "\n"
     ]
    }
   ],
   "source": [
    "start = sqlContext.sql(\"\"\"select ORIGIN_AIRPORT, sum(SCHEDULED_DEPARTURE) as Flight\n",
    "                                    from flights group by ORIGIN_AIRPORT order by sum(SCHEDULED_DEPARTURE) DESC limit 10\"\"\")\n",
    "start.show()"
   ]
  },
  {
   "cell_type": "markdown",
   "id": "d051496b",
   "metadata": {},
   "source": [
    "## Airlines with Highest Delays"
   ]
  },
  {
   "cell_type": "code",
   "execution_count": 21,
   "id": "b5316101",
   "metadata": {},
   "outputs": [
    {
     "name": "stdout",
     "output_type": "stream",
     "text": [
      "+-------+--------+\n",
      "|AIRLINE|   Delay|\n",
      "+-------+--------+\n",
      "|     WN|13186520|\n",
      "|     UA| 7355348|\n",
      "|     DL| 6427294|\n",
      "|     AA| 6369435|\n",
      "|     EV| 4857338|\n",
      "|     OO| 4517510|\n",
      "|     B6| 3026467|\n",
      "|     MQ| 2837908|\n",
      "|     NK| 1840887|\n",
      "|     F9| 1205449|\n",
      "+-------+--------+\n",
      "\n"
     ]
    }
   ],
   "source": [
    "airlines_max_delays= sqlContext.sql(\"\"\"select AIRLINE, sum(DEPARTURE_DELAY) as Delay\n",
    "                                    from flights group by AIRLINE order by sum(DEPARTURE_DELAY) DESC limit 10\"\"\")\n",
    "airlines_max_delays.show()"
   ]
  },
  {
   "cell_type": "markdown",
   "id": "5511a78e",
   "metadata": {},
   "source": [
    "## Airports with Most Flights"
   ]
  },
  {
   "cell_type": "code",
   "execution_count": 31,
   "id": "1bd8999f",
   "metadata": {},
   "outputs": [
    {
     "name": "stdout",
     "output_type": "stream",
     "text": [
      "+-------+-------------+\n",
      "|Airport|Total_Flights|\n",
      "+-------+-------------+\n",
      "|    ATL|    965658136|\n",
      "|    ORD|    801952811|\n",
      "|    DFW|    668106497|\n",
      "|    LAX|    557565193|\n",
      "|    DEN|    554937783|\n",
      "|    SFO|    418551870|\n",
      "|    PHX|    416744400|\n",
      "|    IAH|    412111092|\n",
      "|    LAS|    376167370|\n",
      "|    SEA|    316385217|\n",
      "|    MSP|    315194016|\n",
      "|    MCO|    312460292|\n",
      "|    BOS|    308644686|\n",
      "|    DTW|    305500112|\n",
      "|    EWR|    289299779|\n",
      "+-------+-------------+\n",
      "\n"
     ]
    }
   ],
   "source": [
    "MostFlightsByAirports = sqlContext.sql(\"\"\"with destination as (select DESTINATION_AIRPORT as Airport, sum(SCHEDULED_DEPARTURE) as Out_Flights \n",
    "                                    from flights group by DESTINATION_AIRPORT),\n",
    "                                    origin as (select ORIGIN_AIRPORT as Airport, sum(SCHEDULED_ARRIVAL) as In_Flights \n",
    "                                    from flights group by ORIGIN_AIRPORT)\n",
    "                                    select origin.Airport, (destination.Out_Flights+origin.In_Flights) as Total_Flights\n",
    "                                    from origin, destination \n",
    "                                    where origin.Airport = destination.Airport\n",
    "                                    order by (origin.In_Flights + destination.Out_Flights) DESC\n",
    "                                    limit 15\"\"\")\n",
    "MostFlightsByAirports.show()"
   ]
  },
  {
   "cell_type": "markdown",
   "id": "a41568de",
   "metadata": {},
   "source": [
    "## Flights vs Distance"
   ]
  },
  {
   "cell_type": "code",
   "execution_count": 32,
   "id": "4eea1f20",
   "metadata": {},
   "outputs": [
    {
     "name": "stdout",
     "output_type": "stream",
     "text": [
      "+--------+--------+--------+-------+\n",
      "|Airport1|Airport2|Distance|Flights|\n",
      "+--------+--------+--------+-------+\n",
      "|     HNL|     JFK|  4983.0| 799195|\n",
      "|   12173|   12478|  4983.0|  68140|\n",
      "|     EWR|     HNL|  4962.0| 979435|\n",
      "|   11618|   12173|  4962.0|  90845|\n",
      "|     HNL|     IAD|  4817.0| 409615|\n",
      "|   12173|   12264|  4817.0|  11310|\n",
      "|     ATL|     HNL|  4502.0| 899217|\n",
      "|   10397|   12173|  4502.0|  83414|\n",
      "|     HNL|     ORD|  4243.0| 841710|\n",
      "|   12173|   13930|  4243.0|  77885|\n",
      "|     OGG|     ORD|  4184.0| 294230|\n",
      "|   13830|   13930|  4184.0|  12800|\n",
      "|   12173|   13487|  3972.0|   5824|\n",
      "|     HNL|     MSP|  3972.0| 131195|\n",
      "|     HNL|     IAH|  3904.0| 963965|\n",
      "+--------+--------+--------+-------+\n",
      "\n"
     ]
    }
   ],
   "source": [
    "distanceQuery = sqlContext.sql(\"\"\"with table1 as \n",
    "                                    (select least(Origin_airport, Destination_airport) as Airport1, \n",
    "                                    greatest(Destination_airport, Origin_airport) as Airport2, \n",
    "                                    mean(Distance) as Distance,\n",
    "                                    sum(SCHEDULED_DEPARTURE) as Flights\n",
    "                                    from flights\n",
    "                                    group by least(Origin_airport, Destination_airport), greatest(Destination_airport, Origin_airport)\n",
    "                                    order by 1,2)\n",
    "                                    select t.*\n",
    "                                    from table1 t\n",
    "                                    where Flights>0\n",
    "                                    order by Distance DESC\n",
    "                                    limit 15;\"\"\")\n",
    "\n",
    "distanceQuery.show(15)"
   ]
  },
  {
   "cell_type": "markdown",
   "id": "fc096b5c",
   "metadata": {},
   "source": [
    "## Using Machine Learning model to predict Delay"
   ]
  },
  {
   "cell_type": "code",
   "execution_count": 26,
   "id": "65861432",
   "metadata": {},
   "outputs": [],
   "source": [
    "model=flight_table.select('MONTH', 'DAY_OF_WEEK', 'AIRLINE', 'TAIL_NUMBER', 'DESTINATION_AIRPORT', 'AIR_TIME', 'DISTANCE', 'ARRIVAL_DELAY')"
   ]
  },
  {
   "cell_type": "code",
   "execution_count": 27,
   "id": "0c092fc2",
   "metadata": {},
   "outputs": [
    {
     "data": {
      "text/plain": [
       "5819079"
      ]
     },
     "execution_count": 27,
     "metadata": {},
     "output_type": "execute_result"
    }
   ],
   "source": [
    "model.count()"
   ]
  },
  {
   "cell_type": "code",
   "execution_count": 43,
   "id": "1b106805",
   "metadata": {},
   "outputs": [],
   "source": [
    "#Removing the null values"
   ]
  },
  {
   "cell_type": "code",
   "execution_count": 28,
   "id": "924b4bce",
   "metadata": {},
   "outputs": [],
   "source": [
    "model= model.filter(\"ARRIVAL_DELAY is not NULL and AIRLINE is not NULL and AIR_TIME is not NULL and TAIL_NUMBER is not NULL\")"
   ]
  },
  {
   "cell_type": "code",
   "execution_count": 29,
   "id": "a2ae66ae",
   "metadata": {},
   "outputs": [
    {
     "data": {
      "text/plain": [
       "5714008"
      ]
     },
     "execution_count": 29,
     "metadata": {},
     "output_type": "execute_result"
    }
   ],
   "source": [
    "model.count()"
   ]
  },
  {
   "cell_type": "code",
   "execution_count": 30,
   "id": "3a0b65a6",
   "metadata": {},
   "outputs": [],
   "source": [
    "model= model.withColumn(\"is_late\", model.ARRIVAL_DELAY > 0)"
   ]
  },
  {
   "cell_type": "code",
   "execution_count": 31,
   "id": "faa7800a",
   "metadata": {},
   "outputs": [],
   "source": [
    "model = model.withColumn(\"is_late\", model.is_late.cast(\"integer\"))"
   ]
  },
  {
   "cell_type": "code",
   "execution_count": 32,
   "id": "942d110a",
   "metadata": {},
   "outputs": [],
   "source": [
    "model = model.withColumnRenamed(\"is_late\", 'label')"
   ]
  },
  {
   "cell_type": "code",
   "execution_count": 33,
   "id": "0c33f132",
   "metadata": {},
   "outputs": [
    {
     "name": "stdout",
     "output_type": "stream",
     "text": [
      "+-----+-----------+-------+-----------+-------------------+--------+--------+-------------+-----+\n",
      "|MONTH|DAY_OF_WEEK|AIRLINE|TAIL_NUMBER|DESTINATION_AIRPORT|AIR_TIME|DISTANCE|ARRIVAL_DELAY|label|\n",
      "+-----+-----------+-------+-----------+-------------------+--------+--------+-------------+-----+\n",
      "|    1|          4|     AS|     N407AS|                SEA|     169|  1448.0|          -22|    0|\n",
      "+-----+-----------+-------+-----------+-------------------+--------+--------+-------------+-----+\n",
      "only showing top 1 row\n",
      "\n"
     ]
    }
   ],
   "source": [
    "model.show(1)"
   ]
  },
  {
   "cell_type": "code",
   "execution_count": 31,
   "id": "e475ef22",
   "metadata": {},
   "outputs": [],
   "source": [
    "#Check if dataset is balalnced or not"
   ]
  },
  {
   "cell_type": "code",
   "execution_count": 34,
   "id": "04f52ae6",
   "metadata": {},
   "outputs": [
    {
     "name": "stdout",
     "output_type": "stream",
     "text": [
      "Labels Count - \n",
      "+-----+-------+\n",
      "|label|  count|\n",
      "+-----+-------+\n",
      "|    1|2086896|\n",
      "|    0|3627112|\n",
      "+-----+-------+\n",
      "\n"
     ]
    }
   ],
   "source": [
    "print('Labels Count - ')\n",
    "model.groupBy('label').count().show()"
   ]
  },
  {
   "cell_type": "code",
   "execution_count": 35,
   "id": "6ad4b944",
   "metadata": {},
   "outputs": [],
   "source": [
    "from pyspark.ml.feature import OneHotEncoder, StringIndexer\n",
    "from pyspark.ml.feature import HashingTF, IDF, Tokenizer"
   ]
  },
  {
   "cell_type": "code",
   "execution_count": 36,
   "id": "1e80845c",
   "metadata": {},
   "outputs": [],
   "source": [
    "airline_indexer = StringIndexer(inputCol=\"AIRLINE\", outputCol=\"airline_index\")"
   ]
  },
  {
   "cell_type": "code",
   "execution_count": 37,
   "id": "23008847",
   "metadata": {},
   "outputs": [],
   "source": [
    "airline_encoder = OneHotEncoder(inputCol=\"airline_index\", outputCol=\"airline_encoded\")"
   ]
  },
  {
   "cell_type": "code",
   "execution_count": 38,
   "id": "b510309e",
   "metadata": {},
   "outputs": [],
   "source": [
    "dest_indexer = StringIndexer(inputCol=\"DESTINATION_AIRPORT\", outputCol=\"dest_index\")"
   ]
  },
  {
   "cell_type": "code",
   "execution_count": 39,
   "id": "7757caf9",
   "metadata": {},
   "outputs": [],
   "source": [
    "dest_encoder = OneHotEncoder(inputCol=\"dest_index\", outputCol=\"dest_encoded\")"
   ]
  },
  {
   "cell_type": "code",
   "execution_count": 40,
   "id": "ea7cdacb",
   "metadata": {},
   "outputs": [],
   "source": [
    "tail_indexer = StringIndexer(inputCol=\"TAIL_NUMBER\", outputCol=\"tail_index\")"
   ]
  },
  {
   "cell_type": "code",
   "execution_count": 41,
   "id": "44d9994e",
   "metadata": {},
   "outputs": [],
   "source": [
    "tail_encoder = OneHotEncoder(inputCol=\"tail_index\", outputCol=\"tail_encoded\")"
   ]
  },
  {
   "cell_type": "code",
   "execution_count": 42,
   "id": "7878b50c",
   "metadata": {},
   "outputs": [],
   "source": [
    "from pyspark.ml.feature import VectorAssembler"
   ]
  },
  {
   "cell_type": "code",
   "execution_count": 43,
   "id": "3f549c09",
   "metadata": {},
   "outputs": [],
   "source": [
    "vec_assembler = VectorAssembler(inputCols=[\"MONTH\", \"DAY_OF_WEEK\", \"AIR_TIME\", \"DISTANCE\", \"airline_encoded\", \"dest_encoded\", \"tail_encoded\"], outputCol=\"features\")"
   ]
  },
  {
   "cell_type": "code",
   "execution_count": 44,
   "id": "02615729",
   "metadata": {},
   "outputs": [],
   "source": [
    "from pyspark.ml import Pipeline"
   ]
  },
  {
   "cell_type": "code",
   "execution_count": 45,
   "id": "e86ffb17",
   "metadata": {},
   "outputs": [],
   "source": [
    "flights_pipe = Pipeline(stages=[dest_indexer, dest_encoder, airline_indexer, airline_encoder, tail_indexer, tail_encoder, vec_assembler])"
   ]
  },
  {
   "cell_type": "code",
   "execution_count": 46,
   "id": "a6b3cef8",
   "metadata": {},
   "outputs": [],
   "source": [
    "piped_data = flights_pipe.fit(model).transform(model)"
   ]
  },
  {
   "cell_type": "code",
   "execution_count": 47,
   "id": "0a10fd9c",
   "metadata": {},
   "outputs": [],
   "source": [
    "train_data, test_data = piped_data.randomSplit([.7, .3],seed=1)"
   ]
  },
  {
   "cell_type": "code",
   "execution_count": 48,
   "id": "04f80ef9",
   "metadata": {},
   "outputs": [
    {
     "name": "stdout",
     "output_type": "stream",
     "text": [
      "Row count in train data : 3999011\n",
      "Row count in test data : 1714997\n"
     ]
    }
   ],
   "source": [
    "print('Row count in train data :',  train_data.count())\n",
    "print('Row count in test data :',  test_data.count())"
   ]
  },
  {
   "cell_type": "markdown",
   "id": "ceb95659",
   "metadata": {},
   "source": [
    "## Using Logistic Regression as the Classifier"
   ]
  },
  {
   "cell_type": "code",
   "execution_count": 49,
   "id": "26d80fe3",
   "metadata": {},
   "outputs": [],
   "source": [
    "from pyspark.ml.classification import LogisticRegression\n",
    "import pyspark.ml.evaluation as evals"
   ]
  },
  {
   "cell_type": "code",
   "execution_count": 56,
   "id": "f0443173",
   "metadata": {},
   "outputs": [],
   "source": [
    "lr = LogisticRegression(labelCol=\"label\",featuresCol=\"features\")"
   ]
  },
  {
   "cell_type": "code",
   "execution_count": 57,
   "id": "88a842ee",
   "metadata": {},
   "outputs": [],
   "source": [
    "best_lr = lr.fit(train_data)"
   ]
  },
  {
   "cell_type": "code",
   "execution_count": 59,
   "id": "f39238bb",
   "metadata": {},
   "outputs": [],
   "source": [
    "pred=best_lr.transform(test_data)"
   ]
  },
  {
   "cell_type": "code",
   "execution_count": 60,
   "id": "fde50d9a",
   "metadata": {},
   "outputs": [
    {
     "name": "stdout",
     "output_type": "stream",
     "text": [
      "+-----+-----------+-------+-----------+-------------------+--------+--------+-------------+-----+----------+-----------------+-------------+---------------+----------+-------------------+--------------------+--------------------+--------------------+----------+\n",
      "|MONTH|DAY_OF_WEEK|AIRLINE|TAIL_NUMBER|DESTINATION_AIRPORT|AIR_TIME|DISTANCE|ARRIVAL_DELAY|label|dest_index|     dest_encoded|airline_index|airline_encoded|tail_index|       tail_encoded|            features|       rawPrediction|         probability|prediction|\n",
      "+-----+-----------+-------+-----------+-------------------+--------+--------+-------------+-----+----------+-----------------+-------------+---------------+----------+-------------------+--------------------+--------------------+--------------------+----------+\n",
      "|    1|          1|     AA|     N001AA|                EGE|     112|   721.0|           18|    1|     287.0|(628,[287],[1.0])|          2.0| (13,[2],[1.0])|    3871.0|(4895,[3871],[1.0])|(5540,[0,1,2,3,6,...|[0.76891688789403...|[0.68328654827840...|       0.0|\n",
      "|    1|          1|     AA|     N001AA|                LAX|      99|   748.0|           13|    1|       4.0|  (628,[4],[1.0])|          2.0| (13,[2],[1.0])|    3871.0|(4895,[3871],[1.0])|(5540,[0,1,2,3,6,...|[0.75536775783769...|[0.68034718009957...|       0.0|\n",
      "|    1|          1|     AA|     N002AA|                MEM|      58|   432.0|           -1|    0|      69.0| (628,[69],[1.0])|          2.0| (13,[2],[1.0])|    3812.0|(4895,[3812],[1.0])|(5540,[0,1,2,3,6,...|[0.59873836107758...|[0.64536761010905...|       0.0|\n",
      "|    1|          1|     AA|     N002AA|                MIA|     132|  1068.0|           21|    1|      24.0| (628,[24],[1.0])|          2.0| (13,[2],[1.0])|    3812.0|(4895,[3812],[1.0])|(5540,[0,1,2,3,6,...|[0.58087124201071...|[0.64126785446151...|       0.0|\n",
      "|    1|          1|     AA|     N003AA|                ATL|      88|   594.0|          -15|    0|       0.0|  (628,[0],[1.0])|          2.0| (13,[2],[1.0])|    3847.0|(4895,[3847],[1.0])|(5540,[0,1,2,3,6,...|[0.33983450509688...|[0.58415032168477...|       0.0|\n",
      "+-----+-----------+-------+-----------+-------------------+--------+--------+-------------+-----+----------+-----------------+-------------+---------------+----------+-------------------+--------------------+--------------------+--------------------+----------+\n",
      "only showing top 5 rows\n",
      "\n"
     ]
    }
   ],
   "source": [
    "pred.show(5)"
   ]
  },
  {
   "cell_type": "code",
   "execution_count": null,
   "id": "663daa55",
   "metadata": {},
   "outputs": [],
   "source": [
    "evaluator = evals.BinaryClassificationEvaluator(metricName=\"areaUnderROC\")"
   ]
  },
  {
   "cell_type": "code",
   "execution_count": 61,
   "id": "aa5f760b",
   "metadata": {},
   "outputs": [],
   "source": [
    "from pyspark.ml.evaluation import BinaryClassificationEvaluator"
   ]
  },
  {
   "cell_type": "code",
   "execution_count": 74,
   "id": "8779e7b8",
   "metadata": {},
   "outputs": [],
   "source": [
    "evaluator = BinaryClassificationEvaluator(rawPredictionCol='rawPrediction')\n",
    "auc=evaluator.evaluate(pred)"
   ]
  },
  {
   "cell_type": "code",
   "execution_count": 75,
   "id": "c8ed14e3",
   "metadata": {},
   "outputs": [
    {
     "name": "stdout",
     "output_type": "stream",
     "text": [
      "AUC-ROC = 62.70%\n"
     ]
    }
   ],
   "source": [
    "print('AUC-ROC = {:.2f}%'.format(auc * 100))"
   ]
  },
  {
   "cell_type": "code",
   "execution_count": 71,
   "id": "67f48237",
   "metadata": {},
   "outputs": [],
   "source": [
    "from pyspark.ml.evaluation import MulticlassClassificationEvaluator"
   ]
  },
  {
   "cell_type": "code",
   "execution_count": 72,
   "id": "183327b8",
   "metadata": {},
   "outputs": [
    {
     "name": "stdout",
     "output_type": "stream",
     "text": [
      "Accuracy = 65.58%\n"
     ]
    }
   ],
   "source": [
    "accuracy_evaluator = MulticlassClassificationEvaluator(metricName='accuracy')\n",
    "accuracy = accuracy_evaluator.evaluate(pred)\n",
    "print('Accuracy = {:.2f}%'.format(accuracy * 100))"
   ]
  },
  {
   "cell_type": "markdown",
   "id": "697a0ace",
   "metadata": {},
   "source": [
    "Question 1: What were the top 5 origin and destination airports for the total number of flights in 2015?"
   ]
  },
  {
   "cell_type": "code",
   "execution_count": 98,
   "id": "32730053",
   "metadata": {},
   "outputs": [],
   "source": [
    "air_manager.createOrReplaceTempView('air_manager')"
   ]
  },
  {
   "cell_type": "code",
   "execution_count": 106,
   "id": "b02d2f8c",
   "metadata": {},
   "outputs": [],
   "source": [
    "flight_count= \"SELECT AIRPORT, COUNT(*) as COUNT FROM air_manager WHERE AIRPORT IS NOT NULL GROUP BY AIRPORT ORDER BY COUNT DESC LIMIT 5\""
   ]
  },
  {
   "cell_type": "code",
   "execution_count": 107,
   "id": "5d82b019",
   "metadata": {},
   "outputs": [],
   "source": [
    "top_5_origin_airports=spark.sql(flight_count)"
   ]
  },
  {
   "cell_type": "code",
   "execution_count": 108,
   "id": "e27d47e4",
   "metadata": {},
   "outputs": [
    {
     "name": "stdout",
     "output_type": "stream",
     "text": [
      "+--------------------+------+\n",
      "|             AIRPORT| COUNT|\n",
      "+--------------------+------+\n",
      "|Hartsfield-Jackso...|346904|\n",
      "|Chicago O'Hare In...|285906|\n",
      "|Dallas/Fort Worth...|239582|\n",
      "|Denver Internatio...|196010|\n",
      "|Los Angeles Inter...|194696|\n",
      "+--------------------+------+\n",
      "\n"
     ]
    }
   ],
   "source": [
    "top_5_origin_airports.show()"
   ]
  },
  {
   "cell_type": "code",
   "execution_count": 212,
   "id": "4f98bd74",
   "metadata": {},
   "outputs": [],
   "source": [
    "top_5_origin_airports.write.csv(r\"C:\\Users\\16478\\Desktop\\dataset\\tableau\\top_5_origin_airports.csv\", header=True, mode=\"overwrite\")"
   ]
  },
  {
   "cell_type": "markdown",
   "id": "8e043f0d",
   "metadata": {},
   "source": [
    "Question 2: What were the top 5 origin airports for the number of cancelled flights in 2015?"
   ]
  },
  {
   "cell_type": "code",
   "execution_count": 112,
   "id": "cb4f4740",
   "metadata": {},
   "outputs": [],
   "source": [
    "cancelled_count=\"SELECT AIRPORT, SUM(CANCELLED) as COUNT FROM air_manager WHERE AIRPORT IS NOT NULL GROUP BY AIRPORT ORDER BY COUNT DESC LIMIT 5\""
   ]
  },
  {
   "cell_type": "code",
   "execution_count": 113,
   "id": "78f7bb77",
   "metadata": {},
   "outputs": [],
   "source": [
    "top_5_airports_cancel=spark.sql(cancelled_count)"
   ]
  },
  {
   "cell_type": "code",
   "execution_count": 114,
   "id": "cc922e4b",
   "metadata": {},
   "outputs": [
    {
     "name": "stdout",
     "output_type": "stream",
     "text": [
      "+--------------------+-----+\n",
      "|             AIRPORT|COUNT|\n",
      "+--------------------+-----+\n",
      "|Chicago O'Hare In...| 9273|\n",
      "|Dallas/Fort Worth...| 6749|\n",
      "|LaGuardia Airport...| 4418|\n",
      "|Newark Liberty In...| 3350|\n",
      "|Hartsfield-Jackso...| 2715|\n",
      "+--------------------+-----+\n",
      "\n"
     ]
    }
   ],
   "source": [
    "top_5_airports_cancel.show()"
   ]
  },
  {
   "cell_type": "code",
   "execution_count": 213,
   "id": "b06a3af8",
   "metadata": {},
   "outputs": [],
   "source": [
    "top_5_airports_cancel.write.csv(r\"C:\\Users\\16478\\Desktop\\dataset\\tableau\\top_5_airports_cancel.csv\", header=True, mode=\"overwrite\")"
   ]
  },
  {
   "cell_type": "markdown",
   "id": "afad21cf",
   "metadata": {},
   "source": [
    "Question 3: What were the top 5 origin airports for the percentage of cancelled flights in 2015? (Percentage here is with respect to the total flights departing from each respective airport.)"
   ]
  },
  {
   "cell_type": "code",
   "execution_count": 115,
   "id": "a15f3972",
   "metadata": {},
   "outputs": [
    {
     "name": "stdout",
     "output_type": "stream",
     "text": [
      "+--------------------+-----+\n",
      "|             AIRPORT|COUNT|\n",
      "+--------------------+-----+\n",
      "|Melbourne Interna...|    4|\n",
      "|San Diego Interna...|  679|\n",
      "+--------------------+-----+\n",
      "only showing top 2 rows\n",
      "\n"
     ]
    }
   ],
   "source": [
    "cancelled_flights_per_airport=\"SELECT AIRPORT, SUM(CANCELLED) as COUNT FROM air_manager WHERE AIRPORT IS NOT NULL GROUP BY AIRPORT\"\n",
    "cancelled_flights_per_airport=spark.sql(cancelled_flights_per_airport)\n",
    "cancelled_flights_per_airport.show(2)"
   ]
  },
  {
   "cell_type": "code",
   "execution_count": 116,
   "id": "88359eb7",
   "metadata": {},
   "outputs": [
    {
     "name": "stdout",
     "output_type": "stream",
     "text": [
      "+--------------------+-------------+\n",
      "|             AIRPORT|TOTAL_FLIGHTS|\n",
      "+--------------------+-------------+\n",
      "|Melbourne Interna...|         1332|\n",
      "|San Diego Interna...|        70207|\n",
      "+--------------------+-------------+\n",
      "only showing top 2 rows\n",
      "\n"
     ]
    }
   ],
   "source": [
    "flights_per_airport=\"SELECT AIRPORT, COUNT(FLIGHT_NUMBER) as TOTAL_FLIGHTS FROM air_manager WHERE AIRPORT IS NOT NULL GROUP BY AIRPORT\"\n",
    "flights_per_airport=spark.sql(flights_per_airport)\n",
    "flights_per_airport.show(2)"
   ]
  },
  {
   "cell_type": "code",
   "execution_count": 117,
   "id": "4d5f19ee",
   "metadata": {},
   "outputs": [
    {
     "name": "stdout",
     "output_type": "stream",
     "text": [
      "+--------------------+-----+-------------+\n",
      "|             AIRPORT|COUNT|TOTAL_FLIGHTS|\n",
      "+--------------------+-----+-------------+\n",
      "|Melbourne Interna...|    4|         1332|\n",
      "|San Diego Interna...|  679|        70207|\n",
      "+--------------------+-----+-------------+\n",
      "only showing top 2 rows\n",
      "\n"
     ]
    }
   ],
   "source": [
    "join_cancelled_flights=cancelled_flights_per_airport.join(flights_per_airport,on='AIRPORT', how = 'leftouter')\n",
    "join_cancelled_flights.show(2)"
   ]
  },
  {
   "cell_type": "code",
   "execution_count": 119,
   "id": "cfb354be",
   "metadata": {},
   "outputs": [],
   "source": [
    "from pyspark.sql.functions import col\n",
    "\n",
    "join_cancelled_flights = join_cancelled_flights.withColumn(\"percentage\", (col(\"COUNT\") / col(\"TOTAL_FLIGHTS\")) * 100)"
   ]
  },
  {
   "cell_type": "code",
   "execution_count": 120,
   "id": "37efae80",
   "metadata": {},
   "outputs": [
    {
     "name": "stdout",
     "output_type": "stream",
     "text": [
      "+--------------------+-----+-------------+------------------+\n",
      "|             AIRPORT|COUNT|TOTAL_FLIGHTS|        percentage|\n",
      "+--------------------+-----+-------------+------------------+\n",
      "|Melbourne Interna...|    4|         1332|0.3003003003003003|\n",
      "|San Diego Interna...|  679|        70207|0.9671400287720597|\n",
      "+--------------------+-----+-------------+------------------+\n",
      "only showing top 2 rows\n",
      "\n"
     ]
    }
   ],
   "source": [
    "join_cancelled_flights.show(2)"
   ]
  },
  {
   "cell_type": "code",
   "execution_count": 121,
   "id": "bfff26b6",
   "metadata": {},
   "outputs": [],
   "source": [
    "join_cancelled_flights.createOrReplaceTempView('percentage')"
   ]
  },
  {
   "cell_type": "code",
   "execution_count": 215,
   "id": "358bf84b",
   "metadata": {},
   "outputs": [],
   "source": []
  },
  {
   "cell_type": "code",
   "execution_count": 217,
   "id": "6cb32097",
   "metadata": {},
   "outputs": [
    {
     "name": "stdout",
     "output_type": "stream",
     "text": [
      "+--------------------+--------------------+\n",
      "|             AIRPORT|round(percentage, 4)|\n",
      "+--------------------+--------------------+\n",
      "|Ithaca Tompkins R...|             11.4286|\n",
      "|Mammoth Yosemite ...|             10.2564|\n",
      "|Devils Lake Regio...|              7.7947|\n",
      "|        Adak Airport|              7.2917|\n",
      "|Muskegon County A...|              7.1964|\n",
      "+--------------------+--------------------+\n",
      "\n"
     ]
    }
   ],
   "source": [
    "percentage_cancelled=\"SELECT AIRPORT,ROUND(percentage,4) FROM percentage WHERE AIRPORT IS NOT NULL ORDER BY percentage DESC LIMIT 5\"\n",
    "percentage_cancelled=spark.sql(percentage_cancelled)\n",
    "percentage_cancelled.show()"
   ]
  },
  {
   "cell_type": "code",
   "execution_count": 218,
   "id": "966c13a7",
   "metadata": {},
   "outputs": [],
   "source": [
    "percentage_cancelled.write.csv(r\"C:\\Users\\16478\\Desktop\\dataset\\tableau\\percentage_cancelled.csv\", header=True, mode=\"overwrite\")"
   ]
  },
  {
   "cell_type": "markdown",
   "id": "95e8e53c",
   "metadata": {},
   "source": [
    "Question 4a: What is the flight number, airline, origin and destination airports and distance of the flight with the longest air time?"
   ]
  },
  {
   "cell_type": "code",
   "execution_count": 147,
   "id": "68a16092",
   "metadata": {},
   "outputs": [
    {
     "name": "stdout",
     "output_type": "stream",
     "text": [
      "+-------------------+--------------------+\n",
      "|DESTINATION_AIRPORT|             AIRLINE|\n",
      "+-------------------+--------------------+\n",
      "|                 UA|United Air Lines ...|\n",
      "|                 AA|American Airlines...|\n",
      "+-------------------+--------------------+\n",
      "only showing top 2 rows\n",
      "\n"
     ]
    }
   ],
   "source": [
    "airline_df.show(2)"
   ]
  },
  {
   "cell_type": "code",
   "execution_count": 158,
   "id": "6b11d834",
   "metadata": {},
   "outputs": [],
   "source": [
    "airline_df=airline_df.withColumnRenamed(\"DESTINATION_AIRPORT\", \"AIRLINE\")"
   ]
  },
  {
   "cell_type": "code",
   "execution_count": null,
   "id": "81e5b838",
   "metadata": {},
   "outputs": [],
   "source": [
    "airline_df=airline_df.withColumnRenamed(\"AIRLINE\", \"AIRLINE_NAME\")"
   ]
  },
  {
   "cell_type": "code",
   "execution_count": 159,
   "id": "52e6b7ad",
   "metadata": {},
   "outputs": [
    {
     "name": "stdout",
     "output_type": "stream",
     "text": [
      "+-------+--------------------+\n",
      "|AIRLINE|        AIRLINE_NAME|\n",
      "+-------+--------------------+\n",
      "|     UA|United Air Lines ...|\n",
      "|     AA|American Airlines...|\n",
      "+-------+--------------------+\n",
      "only showing top 2 rows\n",
      "\n"
     ]
    }
   ],
   "source": [
    "airline_df.show(2)"
   ]
  },
  {
   "cell_type": "code",
   "execution_count": 163,
   "id": "9edeea43",
   "metadata": {},
   "outputs": [],
   "source": [
    "joined_df = air_manager.join(airline_df, on=\"AIRLINE\")"
   ]
  },
  {
   "cell_type": "code",
   "execution_count": 165,
   "id": "80fa3e41",
   "metadata": {},
   "outputs": [],
   "source": [
    "joined_df.createOrReplaceTempView('air_manager_1')"
   ]
  },
  {
   "cell_type": "code",
   "execution_count": 209,
   "id": "af077d47",
   "metadata": {},
   "outputs": [],
   "source": [
    "dataset = (\"SELECT * FROM air_manager_1\")\n",
    "dataset =spark.sql(dataset)"
   ]
  },
  {
   "cell_type": "code",
   "execution_count": 210,
   "id": "2e0f95c5",
   "metadata": {},
   "outputs": [],
   "source": [
    "dataset.write.csv(r\"C:\\Users\\16478\\Desktop\\dataset\\tableau\\dataset.csv\", header=True, mode=\"overwrite\")"
   ]
  },
  {
   "cell_type": "code",
   "execution_count": 166,
   "id": "a591815c",
   "metadata": {},
   "outputs": [
    {
     "name": "stdout",
     "output_type": "stream",
     "text": [
      "+-------------+--------------------+--------------+-------------------+--------+\n",
      "|flight_number|        AIRLINE_NAME|origin_airport|destination_airport|distance|\n",
      "+-------------+--------------------+--------------+-------------------+--------+\n",
      "|           51|Hawaiian Airlines...|           JFK|                HNL|  4983.0|\n",
      "+-------------+--------------------+--------------+-------------------+--------+\n",
      "\n"
     ]
    }
   ],
   "source": [
    "longest_flight = (\"SELECT flight_number, AIRLINE_NAME, origin_airport, destination_airport, distance FROM air_manager_1 ORDER BY AIR_TIME DESC LIMIT 1\")\n",
    "longest_flight=spark.sql(longest_flight)\n",
    "longest_flight.show()"
   ]
  },
  {
   "cell_type": "code",
   "execution_count": 200,
   "id": "0571d7aa",
   "metadata": {},
   "outputs": [],
   "source": [
    "longest_flight.write.csv(r\"C:\\Users\\16478\\Desktop\\dataset\\tableau\\longest_flight.csv\", header=True, mode=\"overwrite\")"
   ]
  },
  {
   "cell_type": "markdown",
   "id": "9fcd1d9a",
   "metadata": {},
   "source": [
    "Question 4b: What is the flight number, airline, origin and destination airports of the flight with the longest distance"
   ]
  },
  {
   "cell_type": "code",
   "execution_count": 168,
   "id": "3d8852dd",
   "metadata": {},
   "outputs": [
    {
     "name": "stdout",
     "output_type": "stream",
     "text": [
      "+-------------+--------------------+--------------+-------------------+\n",
      "|flight_number|        AIRLINE_NAME|origin_airport|destination_airport|\n",
      "+-------------+--------------------+--------------+-------------------+\n",
      "|          420|Delta Air Lines Inc.|           JFK|                HNL|\n",
      "+-------------+--------------------+--------------+-------------------+\n",
      "\n"
     ]
    }
   ],
   "source": [
    "longest_distance = (\"SELECT flight_number, AIRLINE_NAME, origin_airport, destination_airport FROM air_manager_1 ORDER BY distance DESC LIMIT 1\")\n",
    "longest_distance=spark.sql(longest_distance)\n",
    "longest_distance.show()"
   ]
  },
  {
   "cell_type": "code",
   "execution_count": 199,
   "id": "7dde8c91",
   "metadata": {},
   "outputs": [],
   "source": [
    "longest_distance.write.csv(r\"C:\\Users\\16478\\Desktop\\dataset\\tableau\\longest_distance.csv\", header=True, mode=\"overwrite\")"
   ]
  },
  {
   "cell_type": "markdown",
   "id": "83b3cc93",
   "metadata": {},
   "source": [
    "Question 5: How many flights were there for each month listed in the Flights dataframe?"
   ]
  },
  {
   "cell_type": "code",
   "execution_count": 173,
   "id": "c5b46570",
   "metadata": {},
   "outputs": [
    {
     "name": "stdout",
     "output_type": "stream",
     "text": [
      "+-----+------+\n",
      "|MONTH| COUNT|\n",
      "+-----+------+\n",
      "|    1|469968|\n",
      "|    2|429191|\n",
      "|    3|504312|\n",
      "|    4|485151|\n",
      "|    5|496993|\n",
      "|    6|503897|\n",
      "|    7|520718|\n",
      "|    8|510536|\n",
      "|    9|464946|\n",
      "|   10|486165|\n",
      "|   11|467972|\n",
      "|   12|479230|\n",
      "+-----+------+\n",
      "\n"
     ]
    }
   ],
   "source": [
    "flights_per_month=(\"SELECT MONTH,COUNT(*) as COUNT FROM air_manager_1 GROUP BY MONTH\")\n",
    "flights_per_month=spark.sql(flights_per_month)\n",
    "flights_per_month.show()"
   ]
  },
  {
   "cell_type": "code",
   "execution_count": 219,
   "id": "9c34c801",
   "metadata": {},
   "outputs": [],
   "source": [
    "flights_per_month.write.csv(r\"C:\\Users\\16478\\Desktop\\dataset\\tableau\\flights_per_month.csv\", header=True, mode=\"overwrite\")"
   ]
  },
  {
   "cell_type": "markdown",
   "id": "c32207d3",
   "metadata": {},
   "source": [
    "Question 6: What were the top 5 airlines by number of flights in 2015?"
   ]
  },
  {
   "cell_type": "code",
   "execution_count": 177,
   "id": "76fae9a2",
   "metadata": {},
   "outputs": [
    {
     "name": "stdout",
     "output_type": "stream",
     "text": [
      "+--------------------+------+\n",
      "|        AIRLINE_NAME| COUNT|\n",
      "+--------------------+------+\n",
      "|Skywest Airlines ...|588353|\n",
      "|American Eagle Ai...|294632|\n",
      "|      Virgin America| 61903|\n",
      "|United Air Lines ...|515723|\n",
      "|Frontier Airlines...| 90836|\n",
      "+--------------------+------+\n",
      "\n"
     ]
    }
   ],
   "source": [
    "top_5_airlines_num=(\"SELECT AIRLINE_NAME,COUNT(*) as COUNT FROM air_manager_1 GROUP BY AIRLINE_NAME LIMIT 5\")\n",
    "top_5_airlines_num=spark.sql(top_5_airlines_num)\n",
    "top_5_airlines_num.show()"
   ]
  },
  {
   "cell_type": "code",
   "execution_count": 220,
   "id": "fbf09303",
   "metadata": {},
   "outputs": [],
   "source": [
    "top_5_airlines_num.write.csv(r\"C:\\Users\\16478\\Desktop\\dataset\\tableau\\top_5_airlines_num.csv\", header=True, mode=\"overwrite\")"
   ]
  },
  {
   "cell_type": "markdown",
   "id": "a04dd65e",
   "metadata": {},
   "source": [
    "Question 7: How many flights were there for each airline each month?"
   ]
  },
  {
   "cell_type": "code",
   "execution_count": 180,
   "id": "44f90f2b",
   "metadata": {},
   "outputs": [
    {
     "name": "stdout",
     "output_type": "stream",
     "text": [
      "+-----+--------------------+-----+\n",
      "|MONTH|        AIRLINE_NAME|COUNT|\n",
      "+-----+--------------------+-----+\n",
      "|    1|Alaska Airlines Inc.|13257|\n",
      "|    2|Alaska Airlines Inc.|12194|\n",
      "|    3|Alaska Airlines Inc.|14276|\n",
      "|    4|Alaska Airlines Inc.|13974|\n",
      "|    5|Alaska Airlines Inc.|14682|\n",
      "|    6|Alaska Airlines Inc.|15075|\n",
      "|    7|Alaska Airlines Inc.|15821|\n",
      "|    8|Alaska Airlines Inc.|16095|\n",
      "|    9|Alaska Airlines Inc.|14271|\n",
      "|   10|Alaska Airlines Inc.|14467|\n",
      "|   11|Alaska Airlines Inc.|13950|\n",
      "|   12|Alaska Airlines Inc.|14459|\n",
      "|    1|American Airlines...|44059|\n",
      "|    2|American Airlines...|39835|\n",
      "|    3|American Airlines...|45966|\n",
      "|    4|American Airlines...|44770|\n",
      "|    5|American Airlines...|44710|\n",
      "|    6|American Airlines...|44360|\n",
      "|    7|American Airlines...|81434|\n",
      "|    8|American Airlines...|79748|\n",
      "+-----+--------------------+-----+\n",
      "only showing top 20 rows\n",
      "\n"
     ]
    }
   ],
   "source": [
    "flights_per_airline_month=(\"SELECT MONTH,AIRLINE_NAME,COUNT(*) as COUNT FROM air_manager_1 GROUP BY AIRLINE_NAME,MONTH ORDER BY AIRLINE_NAME,MONTH ASC\")\n",
    "flights_per_airline_month=spark.sql(flights_per_airline_month)\n",
    "flights_per_airline_month.show()"
   ]
  },
  {
   "cell_type": "code",
   "execution_count": 221,
   "id": "cafe623e",
   "metadata": {},
   "outputs": [],
   "source": [
    "flights_per_airline_month.write.csv(r\"C:\\Users\\16478\\Desktop\\dataset\\tableau\\flights_per_airline_month.csv\", header=True, mode=\"overwrite\")"
   ]
  },
  {
   "cell_type": "markdown",
   "id": "457b955c",
   "metadata": {},
   "source": [
    "Question 8: How many flights were there in total for each day of the week during the year 2015?"
   ]
  },
  {
   "cell_type": "code",
   "execution_count": 187,
   "id": "5af0e848",
   "metadata": {},
   "outputs": [
    {
     "name": "stdout",
     "output_type": "stream",
     "text": [
      "+-----------+--------------------+------+\n",
      "|DAY_OF_WEEK|        AIRLINE_NAME| COUNT|\n",
      "+-----------+--------------------+------+\n",
      "|          1|Alaska Airlines Inc.| 25082|\n",
      "|          2|Alaska Airlines Inc.| 24165|\n",
      "|          3|Alaska Airlines Inc.| 24395|\n",
      "|          4|Alaska Airlines Inc.| 25477|\n",
      "|          5|Alaska Airlines Inc.| 25135|\n",
      "|          6|Alaska Airlines Inc.| 23574|\n",
      "|          7|Alaska Airlines Inc.| 24693|\n",
      "|          1|American Airlines...|106225|\n",
      "|          2|American Airlines...|103401|\n",
      "|          3|American Airlines...|106503|\n",
      "|          4|American Airlines...|108168|\n",
      "|          5|American Airlines...|106374|\n",
      "|          6|American Airlines...| 92264|\n",
      "|          7|American Airlines...|103049|\n",
      "|          1|American Eagle Ai...| 43872|\n",
      "|          2|American Eagle Ai...| 42970|\n",
      "|          3|American Eagle Ai...| 43450|\n",
      "|          4|American Eagle Ai...| 44314|\n",
      "|          5|American Eagle Ai...| 43869|\n",
      "|          6|American Eagle Ai...| 34246|\n",
      "+-----------+--------------------+------+\n",
      "only showing top 20 rows\n",
      "\n"
     ]
    }
   ],
   "source": [
    "flights_per_airline_day=(\"SELECT DAY_OF_WEEK,AIRLINE_NAME,COUNT(*) as COUNT FROM air_manager_1 GROUP BY AIRLINE_NAME,DAY_OF_WEEK ORDER BY AIRLINE_NAME,DAY_OF_WEEK ASC\")\n",
    "flights_per_airline_day=spark.sql(flights_per_airline_day)\n",
    "flights_per_airline_day.show()"
   ]
  },
  {
   "cell_type": "code",
   "execution_count": 222,
   "id": "5ad1ba15",
   "metadata": {},
   "outputs": [],
   "source": [
    "flights_per_airline_day.write.csv(r\"C:\\Users\\16478\\Desktop\\dataset\\tableau\\flights_per_airline_day.csv\", header=True, mode=\"overwrite\")"
   ]
  },
  {
   "cell_type": "markdown",
   "id": "d03d14fc",
   "metadata": {},
   "source": [
    "Question 9: How many flights were there for each day of the week during each month of 2015?"
   ]
  },
  {
   "cell_type": "code",
   "execution_count": 185,
   "id": "f0008190",
   "metadata": {},
   "outputs": [
    {
     "name": "stdout",
     "output_type": "stream",
     "text": [
      "+-----+-----------+--------------------+-----+\n",
      "|MONTH|DAY_OF_WEEK|        AIRLINE_NAME|COUNT|\n",
      "+-----+-----------+--------------------+-----+\n",
      "|    1|          1|Alaska Airlines Inc.| 1711|\n",
      "|    1|          2|Alaska Airlines Inc.| 1636|\n",
      "|    1|          3|Alaska Airlines Inc.| 1655|\n",
      "|    1|          4|Alaska Airlines Inc.| 2192|\n",
      "|    1|          5|Alaska Airlines Inc.| 2245|\n",
      "|    1|          6|Alaska Airlines Inc.| 2078|\n",
      "|    1|          7|Alaska Airlines Inc.| 1740|\n",
      "|    2|          1|Alaska Airlines Inc.| 1780|\n",
      "|    2|          2|Alaska Airlines Inc.| 1675|\n",
      "|    2|          3|Alaska Airlines Inc.| 1701|\n",
      "|    2|          4|Alaska Airlines Inc.| 1806|\n",
      "|    2|          5|Alaska Airlines Inc.| 1814|\n",
      "|    2|          6|Alaska Airlines Inc.| 1662|\n",
      "|    2|          7|Alaska Airlines Inc.| 1756|\n",
      "|    3|          1|Alaska Airlines Inc.| 2348|\n",
      "|    3|          2|Alaska Airlines Inc.| 2246|\n",
      "|    3|          3|Alaska Airlines Inc.| 1812|\n",
      "|    3|          4|Alaska Airlines Inc.| 1898|\n",
      "|    3|          5|Alaska Airlines Inc.| 1905|\n",
      "|    3|          6|Alaska Airlines Inc.| 1754|\n",
      "+-----+-----------+--------------------+-----+\n",
      "only showing top 20 rows\n",
      "\n"
     ]
    }
   ],
   "source": [
    "flights_per_dayofweek_month=(\"SELECT MONTH,DAY_OF_WEEK,AIRLINE_NAME,COUNT(*) as COUNT FROM air_manager_1 GROUP BY AIRLINE_NAME,DAY_OF_WEEK,MONTH ORDER BY AIRLINE_NAME,MONTH,DAY_OF_WEEK ASC\")\n",
    "flights_per_dayofweek_month=spark.sql(flights_per_dayofweek_month)\n",
    "flights_per_dayofweek_month.show()"
   ]
  },
  {
   "cell_type": "code",
   "execution_count": 223,
   "id": "3518c32f",
   "metadata": {},
   "outputs": [],
   "source": [
    "flights_per_dayofweek_month.write.csv(r\"C:\\Users\\16478\\Desktop\\dataset\\tableau\\flights_per_dayofweek_month.csv\", header=True, mode=\"overwrite\")"
   ]
  },
  {
   "cell_type": "code",
   "execution_count": 193,
   "id": "2953eae4",
   "metadata": {},
   "outputs": [
    {
     "name": "stdout",
     "output_type": "stream",
     "text": [
      "<class 'pyspark.sql.dataframe.DataFrame'>\n"
     ]
    }
   ],
   "source": []
  },
  {
   "cell_type": "code",
   "execution_count": null,
   "id": "b0db4ba2",
   "metadata": {},
   "outputs": [],
   "source": []
  }
 ],
 "metadata": {
  "kernelspec": {
   "display_name": "Python 3 (ipykernel)",
   "language": "python",
   "name": "python3"
  },
  "language_info": {
   "codemirror_mode": {
    "name": "ipython",
    "version": 3
   },
   "file_extension": ".py",
   "mimetype": "text/x-python",
   "name": "python",
   "nbconvert_exporter": "python",
   "pygments_lexer": "ipython3",
   "version": "3.9.12"
  }
 },
 "nbformat": 4,
 "nbformat_minor": 5
}
